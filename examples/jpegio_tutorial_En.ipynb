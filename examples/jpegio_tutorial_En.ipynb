{
 "cells": [
  {
   "cell_type": "markdown",
   "metadata": {},
   "source": [
    "# How to Use jpegio\n",
    "### (Last updated 2019.03.19)\n",
    "##### *If you find any errors or need additional features, please let us know (leedaewon@nsr.re.kr, daewon4you@gmail.com)*\n",
    "\n",
    "- `jpegio` is a Python package that provides an API by wrapping some JPEG input/output functions of [libjpeg](https://www.ijg.org) implemented in C.\n",
    "- It references the source code of [image-forensics](https://github.com/MKLab-ITI/image-forensics) provided by the Greek ITI-CERTH research lab [MKLab](https://mklab.iti.gr).\n",
    "- Uber research also offers [similar code](https://github.com/uber-research/jpeg2dct).\n",
    "- [Cython](https://cython.org/) was used to create the Python module from the C code.\n",
    "- On Microsoft Windows, it uses [libjpeg-turbo](https://libjpeg-turbo.org).\n",
    "- On UNIX-like operating systems, the `jpegio` package installation process includes compiling the source code of `libjpeg`."
   ]
  },
  {
   "cell_type": "code",
   "execution_count": 1,
   "metadata": {
    "ExecuteTime": {
     "end_time": "2024-06-23T11:05:47.940761Z",
     "start_time": "2024-06-23T11:05:47.905351Z"
    }
   },
   "outputs": [],
   "source": [
    "import jpegio as jio"
   ]
  },
  {
   "cell_type": "markdown",
   "metadata": {},
   "source": [
    "### Reading a JPEG Image\n",
    "Compressed JPEG data is primarily handled through the `DecompressedJpeg` object.\n",
    "Other objects (e.g., `DECOMPRESSED`) can be used to handle DCT coefficients in separate data structures (explained in detail later)."
   ]
  },
  {
   "cell_type": "code",
   "execution_count": 2,
   "metadata": {
    "ExecuteTime": {
     "end_time": "2024-06-23T11:05:47.972934Z",
     "start_time": "2024-06-23T11:05:47.942583Z"
    }
   },
   "outputs": [
    {
     "data": {
      "text/plain": "jpegio.decompressedjpeg.DecompressedJpeg"
     },
     "execution_count": 2,
     "metadata": {},
     "output_type": "execute_result"
    }
   ],
   "source": [
    "fpath = \"../tests/images/cherries01.jpg\"  # JPEG file address\n",
    "jpeg = jio.read(fpath)\n",
    "type(jpeg)"
   ]
  },
  {
   "cell_type": "markdown",
   "metadata": {},
   "source": [
    "#### Checking Image Size"
   ]
  },
  {
   "cell_type": "code",
   "execution_count": 3,
   "metadata": {
    "ExecuteTime": {
     "end_time": "2024-06-23T11:05:47.976763Z",
     "start_time": "2024-06-23T11:05:47.973688Z"
    }
   },
   "outputs": [
    {
     "data": {
      "text/plain": "(756, 756)"
     },
     "execution_count": 3,
     "metadata": {},
     "output_type": "execute_result"
    }
   ],
   "source": [
    "jpeg.image_width, jpeg.image_width"
   ]
  },
  {
   "cell_type": "markdown",
   "metadata": {},
   "source": [
    "#### Checking the Number of YCbCr Channels"
   ]
  },
  {
   "cell_type": "code",
   "execution_count": 4,
   "metadata": {
    "ExecuteTime": {
     "end_time": "2024-06-23T11:05:47.980222Z",
     "start_time": "2024-06-23T11:05:47.977355Z"
    }
   },
   "outputs": [
    {
     "data": {
      "text/plain": "3"
     },
     "execution_count": 4,
     "metadata": {},
     "output_type": "execute_result"
    }
   ],
   "source": [
    "jpeg.num_components"
   ]
  },
  {
   "cell_type": "markdown",
   "metadata": {},
   "source": [
    "#### Accessing DCT Coefficients\n",
    "- The member variable name is `coef_arrays`, which is a basic Python list.\n",
    "- The `coef_arrays` list contains DCT coefficient arrays corresponding to each channel.\n",
    "- Each DCT coefficient array is a 2D `numpy.ndarray` object.\n",
    "- The reason for not managing DCT coefficient arrays as a 3D `numpy.ndarray` is that the sizes of DCT coefficient arrays can differ by channel.\n",
    "- Different sizes of DCT coefficient arrays per channel occur when down sampling is applied to CbCr channels during JPEG compression."
   ]
  },
  {
   "cell_type": "code",
   "execution_count": 5,
   "metadata": {
    "ExecuteTime": {
     "end_time": "2024-06-23T11:05:47.984841Z",
     "start_time": "2024-06-23T11:05:47.982771Z"
    }
   },
   "outputs": [
    {
     "data": {
      "text/plain": "list"
     },
     "execution_count": 5,
     "metadata": {},
     "output_type": "execute_result"
    }
   ],
   "source": [
    "type(jpeg.coef_arrays)"
   ]
  },
  {
   "cell_type": "code",
   "execution_count": 6,
   "metadata": {
    "ExecuteTime": {
     "end_time": "2024-06-23T11:05:47.987601Z",
     "start_time": "2024-06-23T11:05:47.985542Z"
    }
   },
   "outputs": [
    {
     "data": {
      "text/plain": "numpy.ndarray"
     },
     "execution_count": 6,
     "metadata": {},
     "output_type": "execute_result"
    }
   ],
   "source": [
    "type(jpeg.coef_arrays[0])"
   ]
  },
  {
   "cell_type": "code",
   "execution_count": 7,
   "metadata": {
    "ExecuteTime": {
     "end_time": "2024-06-23T11:05:47.994051Z",
     "start_time": "2024-06-23T11:05:47.991182Z"
    }
   },
   "outputs": [
    {
     "data": {
      "text/plain": "3"
     },
     "execution_count": 7,
     "metadata": {},
     "output_type": "execute_result"
    }
   ],
   "source": [
    "len(jpeg.coef_arrays)  # Same as the number of channels"
   ]
  },
  {
   "cell_type": "code",
   "execution_count": 8,
   "metadata": {
    "ExecuteTime": {
     "end_time": "2024-06-23T11:05:47.996874Z",
     "start_time": "2024-06-23T11:05:47.994849Z"
    }
   },
   "outputs": [
    {
     "name": "stdout",
     "output_type": "stream",
     "text": [
      "2\n",
      "2\n",
      "2\n"
     ]
    }
   ],
   "source": [
    "print(jpeg.coef_arrays[0].ndim)  # Dimension of the first DCT coefficient array\n",
    "print(jpeg.coef_arrays[1].ndim)  # Dimension of the second DCT coefficient array\n",
    "print(jpeg.coef_arrays[2].ndim)  # Dimension of the third DCT coefficient array"
   ]
  },
  {
   "cell_type": "code",
   "execution_count": 9,
   "metadata": {
    "ExecuteTime": {
     "end_time": "2024-06-23T11:05:48.000522Z",
     "start_time": "2024-06-23T11:05:47.997731Z"
    }
   },
   "outputs": [
    {
     "name": "stdout",
     "output_type": "stream",
     "text": [
      "[Channel #1] The 1st DCT coef. block\n",
      "[[-567   11  -47   -6    4    2    1    1]\n",
      " [ -81  -41   22   13   -5   -2   -2   -4]\n",
      " [  19   15   10  -12    3   -1    1    1]\n",
      " [   8   -7   -7   -4    3   -3    0   -2]\n",
      " [  -7   -5    6    3   -2   -2   -2   -2]\n",
      " [  10    0  -10   -5   -3    1   -1   -1]\n",
      " [  -2   -4   -1    2    2   -2   -2    1]\n",
      " [  -3    0    4   -3   -3    0   -1   -1]]\n",
      "[Channel #2] The 1st DCT coef. block\n",
      "[[-58   6   1   8   0   0   2   0]\n",
      " [ 11   5  -4   3   6  -3   1  -2]\n",
      " [  5  -7  -2   1  -2  -2  -2   0]\n",
      " [ -3  -3   5  -1  -3   1   2   2]\n",
      " [  3   0  -6  -2   2   1  -1   0]\n",
      " [  4  -1   2   1  -1  -3  -2  -1]\n",
      " [ -2   0   2   0   0  -1   0   0]\n",
      " [  2   0  -2  -1   1   2   1  -1]]\n",
      "[Channel #3] The 1st DCT coef. block\n",
      "[[-4 -4 -3 -2  0  1  2 -1]\n",
      " [-2 -2 -3  3  0  1 -2  0]\n",
      " [-9  9  2 -1  3 -1  0  0]\n",
      " [ 4  1 -2 -5 -2  0  0  0]\n",
      " [-3 -2 -2 -1  0 -1  1  0]\n",
      " [-2  1  1 -1  1  1  0  0]\n",
      " [ 1 -2 -1 -1  0  1  0 -1]\n",
      " [ 0 -2  0  0  0 -1  0  0]]\n"
     ]
    }
   ],
   "source": [
    "# Print the first DCT coefficient block of each channel\n",
    "for i in range(jpeg.num_components):\n",
    "    coef = jpeg.coef_arrays[i]\n",
    "    print(\"[Channel #%d] The 1st DCT coef. block\" % (i + 1))\n",
    "    print(coef[:8, :8])"
   ]
  },
  {
   "cell_type": "code",
   "execution_count": 10,
   "metadata": {
    "ExecuteTime": {
     "end_time": "2024-06-23T11:05:48.003163Z",
     "start_time": "2024-06-23T11:05:48.001340Z"
    }
   },
   "outputs": [
    {
     "name": "stdout",
     "output_type": "stream",
     "text": [
      "[Channel #1] Size of DCT coef. array: (504, 760)\n",
      "[Channel #2] Size of DCT coef. array: (256, 384)\n",
      "[Channel #3] Size of DCT coef. array: (256, 384)\n"
     ]
    }
   ],
   "source": [
    "# Print the size of the first DCT coefficient's array for each channel.\n",
    "# (You can see that the sizes of the DCT arrays are different)\n",
    "for i in range(jpeg.num_components):\n",
    "    coef = jpeg.coef_arrays[i]\n",
    "    print(\"[Channel #%d] Size of DCT coef. array: %s\" % (i + 1, coef.shape))"
   ]
  },
  {
   "cell_type": "markdown",
   "metadata": {},
   "source": [
    "#### Reshaping DCT Coefficient `numpy.ndarray` Arrays\n",
    "- To use DCT coefficient arrays more efficiently, it is necessary to reshape the arrays.\n",
    "- For example, if you want to process data in blocks, it is more convenient to use indices like (block row, block column, 8x8 array row, 8x8 array column).\n",
    "- Use `numpy.reshape` and `numpy.transpose` appropriately.\n",
    "- Since `numpy.reshape` and `numpy.transpose` change only the view of the data without altering the internal memory structure, you don't need to worry much about performance issues."
   ]
  },
  {
   "cell_type": "code",
   "execution_count": 11,
   "metadata": {
    "ExecuteTime": {
     "end_time": "2024-06-23T11:05:48.005454Z",
     "start_time": "2024-06-23T11:05:48.003675Z"
    }
   },
   "outputs": [
    {
     "name": "stdout",
     "output_type": "stream",
     "text": [
      "63 95\n"
     ]
    }
   ],
   "source": [
    "# To access the array in 8x8 blocks,\n",
    "# you can reshape the array as follows.\n",
    "\n",
    "coef = jpeg.coef_arrays[0]  # DCT coefficient array of the first channel\n",
    "nr_blk = coef.shape[0] // 8  # Number of 8x8 block rows\n",
    "nc_blk = coef.shape[1] // 8  # Number of 8x8 block columns\n",
    "print(nr_blk, nc_blk)"
   ]
  },
  {
   "cell_type": "code",
   "execution_count": 12,
   "metadata": {
    "ExecuteTime": {
     "end_time": "2024-06-23T11:05:48.007954Z",
     "start_time": "2024-06-23T11:05:48.006146Z"
    }
   },
   "outputs": [
    {
     "name": "stdout",
     "output_type": "stream",
     "text": [
      "(63, 8, 95, 8)\n"
     ]
    }
   ],
   "source": [
    "# Slice the array into blocks of 8 elements along the columns (nc_blk),\n",
    "# then further slice these blocks into blocks of 8 elements along the rows (nr_blk).\n",
    "\n",
    "coef_blk = coef.reshape(nr_blk, 8, nc_blk, 8)\n",
    "print(coef_blk.shape)"
   ]
  },
  {
   "cell_type": "code",
   "execution_count": 13,
   "metadata": {
    "ExecuteTime": {
     "end_time": "2024-06-23T11:05:48.062243Z",
     "start_time": "2024-06-23T11:05:48.060339Z"
    }
   },
   "outputs": [
    {
     "name": "stdout",
     "output_type": "stream",
     "text": [
      "(63, 95, 8, 8)\n"
     ]
    }
   ],
   "source": [
    "# Change the axis positions of the array to make indexing easier.\n",
    "# You only need to think about indexing as desired, without considering how the data is stored internally\n",
    "# (since the internal data memory is a 1-dimensional array anyway).\n",
    "\n",
    "coef_blk = coef.reshape(nr_blk, 8, nc_blk, 8).transpose(0, 2, 1, 3)\n",
    "print(coef_blk.shape)"
   ]
  },
  {
   "cell_type": "code",
   "execution_count": 14,
   "metadata": {
    "ExecuteTime": {
     "end_time": "2024-06-23T11:05:48.065084Z",
     "start_time": "2024-06-23T11:05:48.063323Z"
    }
   },
   "outputs": [
    {
     "name": "stdout",
     "output_type": "stream",
     "text": [
      "[[-644   -6    3  -11    2   -2    7   -1]\n",
      " [ -26  -27   28    5   -5    0   -4    0]\n",
      " [  -4   -6    7   15   -1   -2   -4    3]\n",
      " [   2   17  -17    0   -1    1    1    0]\n",
      " [   0   -8    5    0    4   -2   -2    1]\n",
      " [  -5   -8    6    4   -1    0   -3   -2]\n",
      " [   1    2   -3   -2   -1    0    3    0]\n",
      " [   2    1    4   -1    0   -2   -1   -1]]\n"
     ]
    }
   ],
   "source": [
    "# DCT coefficient block located at row 3, column 2\n",
    "block = coef_blk[3, 2, :, :]\n",
    "print(block)\n"
   ]
  },
  {
   "cell_type": "code",
   "execution_count": 15,
   "metadata": {
    "ExecuteTime": {
     "end_time": "2024-06-23T11:05:48.072882Z",
     "start_time": "2024-06-23T11:05:48.071178Z"
    }
   },
   "outputs": [
    {
     "name": "stdout",
     "output_type": "stream",
     "text": [
      "[[-674    0  -51   -3   16   -3    0   -3]\n",
      " [ -61   15  -58   14   15   10   -4    2]\n",
      " [  -4  -11  -13    2   15    4    3    1]\n",
      " [   8   -2  -13   -3    5   -2   -2    1]\n",
      " [   2    2   -2   -7    3   -5   -2    0]\n",
      " [ -16    6    8    1   -7   -5    3    0]\n",
      " [  -2   -1    8    1   -9   -4    0    1]\n",
      " [   4    0   -5   -3    5   -1    5    0]]\n"
     ]
    }
   ],
   "source": [
    "# DCT coefficient block located at row 10, column 10\n",
    "block = coef_blk[10, 10, :, :]\n",
    "print(block)\n"
   ]
  },
  {
   "cell_type": "code",
   "execution_count": 16,
   "metadata": {
    "ExecuteTime": {
     "end_time": "2024-06-23T11:05:48.075399Z",
     "start_time": "2024-06-23T11:05:48.073681Z"
    }
   },
   "outputs": [
    {
     "name": "stdout",
     "output_type": "stream",
     "text": [
      "[[-680  -29    7   -8   -2   -3   -1    4]\n",
      " [ -19  -28    6   12   -4    3    0    2]\n",
      " [  -5  -14    0    9    1   -2   -1    1]\n",
      " [   0    8    6   -5   -1   -4    0    4]\n",
      " [  -2   -6    1    3   -5    0    0   -2]\n",
      " [  -8   -5    0    5    6   -3    2    0]\n",
      " [   1   -1    0    1   -1    0    1    2]\n",
      " [   0    3    1   -3   -3   -1    0    0]]\n"
     ]
    }
   ],
   "source": [
    "# You can provide the block indices as shown below.\n",
    "block = coef_blk[3, 4]\n",
    "print(block)\n"
   ]
  },
  {
   "cell_type": "markdown",
   "metadata": {},
   "source": [
    "#### Checking Information by Channel\n",
    "- To check information for each JPEG channel, use the `comp_info` member variable of `DecompressedJpeg`.\n",
    "- It contains various information related to downsampling, making it particularly useful for checking size information when dealing with JPEGs where downsampling has been applied to the CbCr channels.\n",
    "- For example, the `v_samp_factor` and `h_samp_factor` of the `ComponentInfo` object represent the downsampling ratios for each YCbCr channel. If you simply need the image size after downsampling, use the `downsampled_width` and `downsampled_height` of the `ComponentInfo` object."
   ]
  },
  {
   "cell_type": "code",
   "execution_count": 17,
   "metadata": {
    "ExecuteTime": {
     "end_time": "2024-06-23T11:05:48.080870Z",
     "start_time": "2024-06-23T11:05:48.078347Z"
    }
   },
   "outputs": [
    {
     "data": {
      "text/plain": "list"
     },
     "execution_count": 17,
     "metadata": {},
     "output_type": "execute_result"
    }
   ],
   "source": [
    "# comp_info is a list object that contains ComponentInfo objects corresponding to each channel.\n",
    "# You can think of \"component\" as corresponding to \"channel\".\n",
    "\n",
    "type(jpeg.comp_info)\n"
   ]
  },
  {
   "cell_type": "code",
   "execution_count": 18,
   "metadata": {
    "ExecuteTime": {
     "end_time": "2024-06-23T11:05:48.083518Z",
     "start_time": "2024-06-23T11:05:48.081607Z"
    }
   },
   "outputs": [
    {
     "data": {
      "text/plain": "jpegio.componentinfo.ComponentInfo"
     },
     "execution_count": 18,
     "metadata": {},
     "output_type": "execute_result"
    }
   ],
   "source": [
    "type(jpeg.comp_info[0])  # ComponentInfo object"
   ]
  },
  {
   "cell_type": "code",
   "execution_count": 19,
   "metadata": {
    "ExecuteTime": {
     "end_time": "2024-06-23T11:05:48.086048Z",
     "start_time": "2024-06-23T11:05:48.084145Z"
    }
   },
   "outputs": [
    {
     "data": {
      "text/plain": "<jpegio.componentinfo.ComponentInfo at 0x7bc1c80bbb30>"
     },
     "execution_count": 19,
     "metadata": {},
     "output_type": "execute_result"
    }
   ],
   "source": [
    "jpeg.comp_info[0]  # ComponentInfo of the first channel"
   ]
  },
  {
   "cell_type": "code",
   "execution_count": 20,
   "metadata": {
    "ExecuteTime": {
     "end_time": "2024-06-23T11:05:48.123548Z",
     "start_time": "2024-06-23T11:05:48.121091Z"
    }
   },
   "outputs": [
    {
     "name": "stdout",
     "output_type": "stream",
     "text": [
      "[Component #1]\n",
      "Quantization table number: 0\n",
      "DC table number: 0\n",
      "AC table number: 0\n",
      "Width after downsampling: 756\n",
      "Height after downsampling: 504\n",
      "Width in blocks: 95\n",
      "Height in blocks: 63\n",
      "Vertical sampling factor: 2\n",
      "Horizontal sampling factor: 2\n",
      "\n",
      "[Component #2]\n",
      "Quantization table number: 1\n",
      "DC table number: 1\n",
      "AC table number: 1\n",
      "Width after downsampling: 378\n",
      "Height after downsampling: 252\n",
      "Width in blocks: 48\n",
      "Height in blocks: 32\n",
      "Vertical sampling factor: 1\n",
      "Horizontal sampling factor: 1\n",
      "\n",
      "[Component #3]\n",
      "Quantization table number: 1\n",
      "DC table number: 1\n",
      "AC table number: 1\n",
      "Width after downsampling: 378\n",
      "Height after downsampling: 252\n",
      "Width in blocks: 48\n",
      "Height in blocks: 32\n",
      "Vertical sampling factor: 1\n",
      "Horizontal sampling factor: 1\n"
     ]
    }
   ],
   "source": [
    "for ci in jpeg.comp_info:\n",
    "    print(\"[Component #%d]\" % (ci.component_id))\n",
    "    print(\"Quantization table number:\", ci.quant_tbl_no)\n",
    "    print(\"DC table number:\", ci.dc_tbl_no)\n",
    "    print(\"AC table number:\", ci.ac_tbl_no)\n",
    "    print(\"Width after downsampling:\", ci.downsampled_width)  # Width after downsampling\n",
    "    print(\"Height after downsampling:\", ci.downsampled_height)  # Height after downsampling\n",
    "    print(\"Width in blocks:\", ci.width_in_blocks)  # Number of block rows\n",
    "    print(\"Height in blocks:\", ci.height_in_blocks)  # Number of block columns\n",
    "    print(\"Vertical sampling factor:\", ci.h_samp_factor)  # Vertical sampling factor\n",
    "    print(\"Horizontal sampling factor:\", ci.v_samp_factor)  # Horizontal sampling factor\n",
    "    print()"
   ]
  },
  {
   "cell_type": "markdown",
   "metadata": {},
   "source": [
    "#### Counting Non-Zero DCT AC Coefficients\n",
    "- In an 8x8 DCT coefficient block, the first coefficient (row 0, column 0) is called the DC coefficient, and the remaining coefficients are called AC coefficients.\n",
    "- Since most steganography tools that modify JPEG DCT coefficients target AC coefficients, it is necessary to count the number of AC coefficients, excluding the DC coefficient.\n",
    "- In `jpegio`, there is a member function called `count_nnz_ac`. `count_nnz_ac` provides the count of non-zero AC coefficients in all DCT coefficient blocks. In other words, it counts the number of non-zero coefficients, excluding the DC coefficient."
   ]
  },
  {
   "cell_type": "code",
   "execution_count": 21,
   "metadata": {
    "ExecuteTime": {
     "end_time": "2024-06-23T11:05:48.126805Z",
     "start_time": "2024-06-23T11:05:48.124512Z"
    }
   },
   "outputs": [
    {
     "data": {
      "text/plain": "476659"
     },
     "execution_count": 21,
     "metadata": {},
     "output_type": "execute_result"
    }
   ],
   "source": [
    "jpeg.count_nnz_ac()"
   ]
  },
  {
   "cell_type": "markdown",
   "metadata": {},
   "source": [
    "If you want to count the number of non-zero AC coefficients for each channel, you can use the code below.\n"
   ]
  },
  {
   "cell_type": "code",
   "execution_count": 22,
   "metadata": {
    "ExecuteTime": {
     "end_time": "2024-06-23T11:05:48.131201Z",
     "start_time": "2024-06-23T11:05:48.129035Z"
    }
   },
   "outputs": [
    {
     "name": "stdout",
     "output_type": "stream",
     "text": [
      "[Channel #1] Number of non-zero DCT AC coefficients: 327921\n",
      "[Channel #2] Number of non-zero DCT AC coefficients: 76925\n",
      "[Channel #3] Number of non-zero DCT AC coefficients: 71813\n"
     ]
    }
   ],
   "source": [
    "import numpy as np\n",
    "\n",
    "for i in range(jpeg.num_components):\n",
    "    coef = jpeg.coef_arrays[i]\n",
    "    nnz_total = np.count_nonzero(coef)  # Number of non-zero coefficients among all DCT coefficients\n",
    "    nnz_dc = np.count_nonzero(coef[::8, ::8])  # Number of non-zero DC coefficients\n",
    "    print(\n",
    "        \"[Channel #%d] Number of non-zero DCT AC coefficients: %d\"\n",
    "        % (i + 1, nnz_total - nnz_dc)\n",
    "    )\n"
   ]
  },
  {
   "cell_type": "markdown",
   "metadata": {},
   "source": [
    "#### Reading DCT Coefficients as a 1D Array Using Zig-Zag Scanning\n",
    "- Depending on the need, you might require a 1D array of DCT coefficients read using the zig-zag scanning method.\n",
    "- Processing zig-zag scanning block by block in Python can result in some performance degradation.\n",
    "- `jpegio` provides a `DECOMPRESSED` class, which is a subclass of `DecompressedJpeg`.\n",
    "- To read a JPEG as a `DECOMPRESSED` object, you need to specify a flag."
   ]
  },
  {
   "cell_type": "code",
   "execution_count": 23,
   "metadata": {
    "ExecuteTime": {
     "end_time": "2024-06-23T11:05:48.144589Z",
     "start_time": "2024-06-23T11:05:48.132198Z"
    }
   },
   "outputs": [],
   "source": [
    "# For reference, DecompressedJpeg is designated as jpegio.DECOMPRESSED.\n",
    "jpeg_zz = jio.read(fpath, jio.DECOMPRESSED)"
   ]
  },
  {
   "cell_type": "code",
   "execution_count": 24,
   "metadata": {
    "ExecuteTime": {
     "end_time": "2024-06-23T11:05:48.147253Z",
     "start_time": "2024-06-23T11:05:48.145190Z"
    }
   },
   "outputs": [
    {
     "data": {
      "text/plain": "jpegio.decompressedjpeg.DecompressedJpeg"
     },
     "execution_count": 24,
     "metadata": {},
     "output_type": "execute_result"
    }
   ],
   "source": [
    "type(jpeg_zz)"
   ]
  },
  {
   "cell_type": "code",
   "execution_count": 25,
   "metadata": {
    "ExecuteTime": {
     "end_time": "2024-06-23T11:05:48.149629Z",
     "start_time": "2024-06-23T11:05:48.147832Z"
    }
   },
   "outputs": [
    {
     "data": {
      "text/plain": "(504, 760)"
     },
     "execution_count": 25,
     "metadata": {},
     "output_type": "execute_result"
    }
   ],
   "source": [
    "coef = jpeg_zz.coef_arrays[0]\n",
    "coef.shape"
   ]
  },
  {
   "cell_type": "markdown",
   "metadata": {},
   "source": [
    "- You can see that the size of the last dimension of the DCT coefficient array is 64 (the size of a 1D array of an 8x8 array, not a 2D array).\n",
    "- Below is the result of comparing the performance of Python code and zig-zag scanning."
   ]
  },
  {
   "cell_type": "code",
   "execution_count": 26,
   "metadata": {
    "ExecuteTime": {
     "end_time": "2024-06-23T11:06:02.904777Z",
     "start_time": "2024-06-23T11:05:50.962003Z"
    }
   },
   "outputs": [
    {
     "name": "stdout",
     "output_type": "stream",
     "text": [
      "[File: football05.jpg]\n",
      "[Time] C-optimized: 0.011345, Naive Python: 0.140260\n",
      "\n",
      "[File: football02.jpg]\n",
      "[Time] C-optimized: 0.010443, Naive Python: 0.135342\n",
      "[File: greenlake03.jpg]\n",
      "[Time] C-optimized: 0.007940, Naive Python: 0.154066\n",
      "\n",
      "[File: greenlake06.jpg]\n",
      "[Time] C-optimized: 0.008807, Naive Python: 0.132836\n",
      "[File: greenlake09.jpg]\n",
      "[Time] C-optimized: 0.009086, Naive Python: 0.134209\n",
      "\n",
      "[File: football09.jpg]\n",
      "[Time] C-optimized: 0.010123, Naive Python: 0.134594\n",
      "[File: test01.jpg]\n",
      "[Time] C-optimized: 0.013407, Naive Python: 0.232347\n",
      "\n",
      "[File: cherries01.jpg]\n",
      "[Time] C-optimized: 0.010126, Naive Python: 0.133333\n",
      "[File: test06.jpg]\n",
      "[Time] C-optimized: 0.064610, Naive Python: 0.848039\n",
      "\n",
      "[File: greenlake04.jpg]\n",
      "[Time] C-optimized: 0.011782, Naive Python: 0.154014\n",
      "[File: cherries02.jpg]\n",
      "[Time] C-optimized: 0.011211, Naive Python: 0.146698\n",
      "\n",
      "[File: arborgreens02.jpg]\n",
      "[Time] C-optimized: 0.009580, Naive Python: 0.134932\n",
      "[File: football08.jpg]\n",
      "[Time] C-optimized: 0.010058, Naive Python: 0.136592\n",
      "\n",
      "[File: football04.jpg]\n",
      "[Time] C-optimized: 0.008235, Naive Python: 0.133018\n",
      "[File: cherries10.jpg]\n",
      "[Time] C-optimized: 0.008893, Naive Python: 0.134284\n",
      "\n",
      "[File: greenlake07.jpg]\n",
      "[Time] C-optimized: 0.009100, Naive Python: 0.134057\n",
      "[File: test05.jpg]\n",
      "[Time] C-optimized: 0.004180, Naive Python: 0.310042\n",
      "\n",
      "[File: football07.jpg]\n",
      "[Time] C-optimized: 0.010177, Naive Python: 0.153003\n",
      "[File: cherries08.jpg]\n",
      "[Time] C-optimized: 0.010097, Naive Python: 0.145165\n",
      "[File: test07.jpg]\n",
      "[Time] C-optimized: 0.053821, Naive Python: 0.814247\n",
      "\n",
      "[File: football03.jpg]\n",
      "[Time] C-optimized: 0.011684, Naive Python: 0.149330\n",
      "[File: cherries06.jpg]\n",
      "[Time] C-optimized: 0.010461, Naive Python: 0.135854\n",
      "[File: test08.jpg]\n",
      "[Time] C-optimized: 0.054824, Naive Python: 0.732465\n",
      "\n",
      "[File: football10.jpg]\n",
      "[Time] C-optimized: 0.009810, Naive Python: 0.135391\n",
      "[File: cherries03.jpg]\n",
      "[Time] C-optimized: 0.008636, Naive Python: 0.133860\n",
      "\n",
      "[File: greenlake10.jpg]\n",
      "[Time] C-optimized: 0.009521, Naive Python: 0.138287\n",
      "[File: greenlake02.jpg]\n",
      "[Time] C-optimized: 0.008656, Naive Python: 0.135442\n",
      "\n",
      "[File: arborgreens07.jpg]\n",
      "[Time] C-optimized: 0.010214, Naive Python: 0.136545\n",
      "[File: arborgreens10.jpg]\n",
      "[Time] C-optimized: 0.009132, Naive Python: 0.135667\n",
      "[File: test10.jpg]\n",
      "[Time] C-optimized: 0.055901, Naive Python: 0.732082\n",
      "\n",
      "[File: arborgreens06.jpg]\n",
      "[Time] C-optimized: 0.010541, Naive Python: 0.137312\n",
      "[File: cherries07.jpg]\n",
      "[Time] C-optimized: 0.009860, Naive Python: 0.135173\n",
      "\n",
      "[File: greenlake05.jpg]\n",
      "[Time] C-optimized: 0.009013, Naive Python: 0.132510\n",
      "[File: arborgreens01.jpg]\n",
      "[Time] C-optimized: 0.009533, Naive Python: 0.141126\n",
      "\n",
      "[File: football06.jpg]\n",
      "[Time] C-optimized: 0.013207, Naive Python: 0.146474\n",
      "[File: test02.jpg]\n",
      "[Time] C-optimized: 0.030022, Naive Python: 0.701566\n",
      "[File: test03.jpg]\n",
      "[Time] C-optimized: 0.007830, Naive Python: 0.417641\n",
      "[File: test09.jpg]\n",
      "[Time] C-optimized: 0.051816, Naive Python: 0.727556\n",
      "\n",
      "[File: football01.jpg]\n",
      "[Time] C-optimized: 0.008861, Naive Python: 0.133631\n",
      "[File: arborgreens04.jpg]\n",
      "[Time] C-optimized: 0.009608, Naive Python: 0.133943\n",
      "\n",
      "[File: arborgreens03.jpg]\n",
      "[Time] C-optimized: 0.010790, Naive Python: 0.135235\n",
      "[File: greenlake08.jpg]\n",
      "[Time] C-optimized: 0.007481, Naive Python: 0.133155\n",
      "\n",
      "[File: cherries05.jpg]\n",
      "[Time] C-optimized: 0.009044, Naive Python: 0.134611\n",
      "[File: arborgreens08.jpg]\n",
      "[Time] C-optimized: 0.009569, Naive Python: 0.135082\n",
      "\n",
      "[File: arborgreens09.jpg]\n",
      "[Time] C-optimized: 0.010696, Naive Python: 0.136187\n",
      "[File: cherries04.jpg]\n",
      "[Time] C-optimized: 0.009570, Naive Python: 0.137764\n",
      "\n",
      "[File: test04.jpg]\n",
      "[Time] C-optimized: 0.004035, Naive Python: 0.170990\n",
      "[File: greenlake01.jpg]\n",
      "[Time] C-optimized: 0.008435, Naive Python: 0.134345\n",
      "\n",
      "[File: arborgreens05.jpg]\n",
      "[Time] C-optimized: 0.010159, Naive Python: 0.135890\n",
      "[File: cherries09.jpg]\n",
      "[Time] C-optimized: 0.008488, Naive Python: 0.134084\n"
     ]
    }
   ],
   "source": [
    "import os\n",
    "import glob\n",
    "import time\n",
    "\n",
    "BS = 8  # Size of the DCT square block width\n",
    "\n",
    "list_fpaths = []\n",
    "\n",
    "for fpath in glob.glob(os.path.join(\"../tests/images\", \"*.jpg\")):\n",
    "    list_fpaths.append(fpath)\n",
    "\n",
    "for fpath in list_fpaths:\n",
    "    # Read DCT with ZigzagDct1d\n",
    "    time_beg_zz = time.time()\n",
    "    jpeg_zz = jio.read(fpath, jio.DECOMPRESSED)\n",
    "    list_coef_zz = []\n",
    "    for c in range(jpeg_zz.num_components):\n",
    "        nrows_blk, ncols_blk = jpeg_zz.get_coef_block_array_shape(c)\n",
    "\n",
    "        arr_zz = jpeg_zz.coef_arrays[c].reshape(nrows_blk * ncols_blk, BS * BS)\n",
    "        list_coef_zz.append(arr_zz)\n",
    "    # end of for\n",
    "    time_elapsed_zz = time.time() - time_beg_zz\n",
    "\n",
    "    # Read DCT with DecompressedJpeg\n",
    "    time_beg_de = time.time()\n",
    "    jpeg_de = jio.read(fpath, jio.DECOMPRESSED)\n",
    "    list_coef_de = []\n",
    "    for c in range(jpeg_de.num_components):\n",
    "        arr_de = jpeg_de.coef_arrays[c]\n",
    "        nrows_blk, ncols_blk = jpeg_de.get_coef_block_array_shape(c)\n",
    "        arr_de = arr_de.reshape(nrows_blk, BS, ncols_blk, BS)\n",
    "        arr_de = arr_de.transpose(0, 2, 1, 3)\n",
    "        arr_de = arr_de.reshape(nrows_blk, ncols_blk, BS, BS)\n",
    "\n",
    "        zz_de = np.zeros((nrows_blk, ncols_blk, BS * BS), dtype=np.int16)\n",
    "\n",
    "        # Zigzag scanning over DCT blocks.\n",
    "        for i in range(nrows_blk):\n",
    "            for j in range(ncols_blk):\n",
    "                zz_de[i, j][0] = arr_de[i, j][0, 0]\n",
    "\n",
    "                zz_de[i, j][1] = arr_de[i, j][0, 1]\n",
    "                zz_de[i, j][2] = arr_de[i, j][1, 0]\n",
    "\n",
    "                zz_de[i, j][3] = arr_de[i, j][2, 0]\n",
    "                zz_de[i, j][4] = arr_de[i, j][1, 1]\n",
    "                zz_de[i, j][5] = arr_de[i, j][0, 2]\n",
    "\n",
    "                zz_de[i, j][6] = arr_de[i, j][0, 3]\n",
    "                zz_de[i, j][7] = arr_de[i, j][1, 2]\n",
    "                zz_de[i, j][8] = arr_de[i, j][2, 1]\n",
    "                zz_de[i, j][9] = arr_de[i, j][3, 0]\n",
    "\n",
    "                zz_de[i, j][10] = arr_de[i, j][4, 0]\n",
    "                zz_de[i, j][11] = arr_de[i, j][3, 1]\n",
    "                zz_de[i, j][12] = arr_de[i, j][2, 2]\n",
    "                zz_de[i, j][13] = arr_de[i, j][1, 3]\n",
    "                zz_de[i, j][14] = arr_de[i, j][0, 4]\n",
    "\n",
    "                zz_de[i, j][15] = arr_de[i, j][0, 5]\n",
    "                zz_de[i, j][16] = arr_de[i, j][1, 4]\n",
    "                zz_de[i, j][17] = arr_de[i, j][2, 3]\n",
    "                zz_de[i, j][18] = arr_de[i, j][3, 2]\n",
    "                zz_de[i, j][19] = arr_de[i, j][4, 1]\n",
    "                zz_de[i, j][20] = arr_de[i, j][5, 0]\n",
    "\n",
    "                zz_de[i, j][21] = arr_de[i, j][6, 0]\n",
    "                zz_de[i, j][22] = arr_de[i, j][5, 1]\n",
    "                zz_de[i, j][23] = arr_de[i, j][4, 2]\n",
    "                zz_de[i, j][24] = arr_de[i, j][3, 3]\n",
    "                zz_de[i, j][25] = arr_de[i, j][2, 4]\n",
    "                zz_de[i, j][26] = arr_de[i, j][1, 5]\n",
    "                zz_de[i, j][27] = arr_de[i, j][0, 6]\n",
    "\n",
    "                zz_de[i, j][28] = arr_de[i, j][0, 7]\n",
    "                zz_de[i, j][29] = arr_de[i, j][1, 6]\n",
    "                zz_de[i, j][30] = arr_de[i, j][2, 5]\n",
    "                zz_de[i, j][31] = arr_de[i, j][3, 4]\n",
    "                zz_de[i, j][32] = arr_de[i, j][4, 3]\n",
    "                zz_de[i, j][33] = arr_de[i, j][5, 2]\n",
    "                zz_de[i, j][34] = arr_de[i, j][6, 1]\n",
    "                zz_de[i, j][35] = arr_de[i, j][7, 0]\n",
    "\n",
    "                zz_de[i, j][36] = arr_de[i, j][7, 1]\n",
    "                zz_de[i, j][37] = arr_de[i, j][6, 2]\n",
    "                zz_de[i, j][38] = arr_de[i, j][5, 3]\n",
    "                zz_de[i, j][39] = arr_de[i, j][4, 4]\n",
    "                zz_de[i, j][40] = arr_de[i, j][3, 5]\n",
    "                zz_de[i, j][41] = arr_de[i, j][2, 6]\n",
    "                zz_de[i, j][42] = arr_de[i, j][1, 7]\n",
    "\n",
    "                zz_de[i, j][43] = arr_de[i, j][2, 7]\n",
    "                zz_de[i, j][44] = arr_de[i, j][3, 6]\n",
    "                zz_de[i, j][45] = arr_de[i, j][4, 5]\n",
    "                zz_de[i, j][46] = arr_de[i, j][5, 4]\n",
    "                zz_de[i, j][47] = arr_de[i, j][6, 3]\n",
    "                zz_de[i, j][48] = arr_de[i, j][7, 2]\n",
    "\n",
    "                zz_de[i, j][49] = arr_de[i, j][7, 3]\n",
    "                zz_de[i, j][50] = arr_de[i, j][6, 4]\n",
    "                zz_de[i, j][51] = arr_de[i, j][5, 5]\n",
    "                zz_de[i, j][52] = arr_de[i, j][4, 6]\n",
    "                zz_de[i, j][53] = arr_de[i, j][3, 7]\n",
    "\n",
    "                zz_de[i, j][54] = arr_de[i, j][4, 7]\n",
    "                zz_de[i, j][55] = arr_de[i, j][5, 6]\n",
    "                zz_de[i, j][56] = arr_de[i, j][6, 5]\n",
    "                zz_de[i, j][57] = arr_de[i, j][7, 4]\n",
    "\n",
    "                zz_de[i, j][58] = arr_de[i, j][7, 5]\n",
    "                zz_de[i, j][59] = arr_de[i, j][6, 6]\n",
    "                zz_de[i, j][60] = arr_de[i, j][5, 7]\n",
    "\n",
    "                zz_de[i, j][61] = arr_de[i, j][6, 7]\n",
    "                zz_de[i, j][62] = arr_de[i, j][7, 6]\n",
    "\n",
    "                zz_de[i, j][63] = arr_de[i, j][7, 7]\n",
    "            # end of for (j)\n",
    "        # end of for (i)\n",
    "        list_coef_de.append(zz_de)\n",
    "    # end of for (c)\n",
    "    time_elapsed_de = time.time() - time_beg_de\n",
    "    print(\"[File: %s]\" % (os.path.basename(fpath)))\n",
    "    print(\n",
    "        \"[Time] C-optimized: %f, Naive Python: %f\" % (time_elapsed_zz, time_elapsed_de),\n",
    "        end=\"\\n\\n\",\n",
    "    )"
   ]
  }
 ],
 "metadata": {
  "kernelspec": {
   "display_name": "Python 3",
   "language": "python",
   "name": "python3"
  },
  "language_info": {
   "codemirror_mode": {
    "name": "ipython",
    "version": 3
   },
   "file_extension": ".py",
   "mimetype": "text/x-python",
   "name": "python",
   "nbconvert_exporter": "python",
   "pygments_lexer": "ipython3",
   "version": "3.7.1"
  }
 },
 "nbformat": 4,
 "nbformat_minor": 2
}
